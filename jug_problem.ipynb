{
 "cells": [
  {
   "cell_type": "code",
   "execution_count": null,
   "metadata": {},
   "outputs": [],
   "source": [
    "\"\"\"\n",
    "Name Amanuel Boru\n",
    "Date. Feb 26 2020\n",
    "\n",
    "refrence\n",
    "\n",
    "dijkstra algorithm\n",
    "https://www.geeksforgeeks.org/dijkstras-shortest-path-algorithm-greedy-algo-7/\n",
    "\n",
    "A* algorithm\n",
    "https://www.geeksforgeeks.org/a-search-algorithm/\n",
    "\n",
    "how to calculate distance\n",
    "https://www.mathwarehouse.com/algebra/distance_formula/index.php\n",
    "\n",
    "how to insert in the front of a list\n",
    "https://stackoverflow.com/questions/17911091/append-integer-to-beginning-of-list-in-python\n",
    "\n",
    "how to randomly generate a number\n",
    "https://www.geeksforgeeks.org/random-numbers-in-python/\n",
    "\n",
    "\"\"\""
   ]
  },
  {
   "cell_type": "code",
   "execution_count": 1,
   "metadata": {},
   "outputs": [],
   "source": [
    "#prints all the posible outcomes from the current state of the jugs\n",
    "# current : the current jug state\n",
    "# size: the size of the jugs\n",
    "def all_possibility(current, size):\n",
    "    all_list = []\n",
    "    # calculates the outcome when a jg is dumped\n",
    "    for i in range(len(current)):\n",
    "        new_node = [current[0], current[1], current[2]] \n",
    "        new_node[i] = 0\n",
    "        all_list.append(new_node)\n",
    "\n",
    "        \n",
    "    #calculates the outcome when one jug is poured into another\n",
    "    for i in range(len(current)):\n",
    "        \n",
    "        capacity = size[i] - current[i]\n",
    "        for j in range(len(current)):\n",
    "            if i != j:\n",
    "                new_node = [current[0], current[1], current[2]]\n",
    "                new_node[i] += new_node[j]\n",
    "                new_node[j] -= capacity\n",
    "                \n",
    "                if new_node[i] > size[i]:\n",
    "                    new_node[i] = size[i]\n",
    "                if new_node[j] < 0:\n",
    "                    new_node[j] = 0\n",
    "                \n",
    "                if new_node != current:\n",
    "                    all_list.append(new_node)\n",
    "                \n",
    "                \n",
    "    return all_list\n",
    "        \n",
    "    "
   ]
  },
  {
   "cell_type": "code",
   "execution_count": 2,
   "metadata": {},
   "outputs": [],
   "source": [
    "# adds the prvous states that lead to this outcom and returns a list whit currnt and history\n",
    "# node: the curent state\n",
    "# history: history of the previous states\n",
    "def copy_history(node, history):\n",
    "    new_node = []\n",
    "    \n",
    "    for i in range(len(history)):\n",
    "        new_node.append(history[i])\n",
    "        \n",
    "    new_node.append(node)\n",
    "    \n",
    "    return new_node"
   ]
  },
  {
   "cell_type": "code",
   "execution_count": 3,
   "metadata": {},
   "outputs": [],
   "source": [
    "# searchs if a node already exists\n",
    "# node: the state being searced\n",
    "# qeue: the list of states that exist\n",
    "def allready_exists(node, qeue):\n",
    "    \n",
    "    found = False\n",
    "    count = 0\n",
    "    while count < len(qeue):\n",
    "        last = len(qeue[count]) - 1\n",
    "        if qeue[count][last] == node:\n",
    "            found = True\n",
    "        count += 1\n",
    "    \n",
    "        \n",
    "    return found"
   ]
  },
  {
   "cell_type": "code",
   "execution_count": 4,
   "metadata": {},
   "outputs": [],
   "source": [
    "# the total amout of content left in the jugs from this state\n",
    "# node: the state of the jug being totaled\n",
    "def total_amount(node):\n",
    "    num = 0\n",
    "    for i in range(len(node)):\n",
    "        num += node[i]\n",
    "        \n",
    "    return num"
   ]
  },
  {
   "cell_type": "code",
   "execution_count": 5,
   "metadata": {},
   "outputs": [],
   "source": [
    "BFS = \"bfs\"\n",
    "DFS = \"dfs\"\n",
    "def jugs(jugsize1, jugsize2, jugsize3, endstate1, endstate2, endstate3, algorithm):\n",
    "    start = [jugsize1, jugsize2, jugsize3]\n",
    "    size = [jugsize1, jugsize2, jugsize3]\n",
    "    end = [endstate1, endstate2, endstate3]\n",
    "    \n",
    "    # if bfs algorithm is being tested\n",
    "    if algorithm == BFS:\n",
    "        qeue = []\n",
    "        qeue.append([start])\n",
    "        found = False\n",
    "        if start == end:\n",
    "            found = True\n",
    "            \n",
    "            \n",
    "        #this loop searhes for the desired state\n",
    "        index = 0\n",
    "        while index < len(qeue) and found == False:\n",
    "            # checks all possible states and appends to the qeue\n",
    "            last = len(qeue[index]) - 1\n",
    "            new_nodes = all_possibility(qeue[index][last], size)\n",
    "\n",
    "            for i in range(len(new_nodes)):\n",
    "                if found == False:\n",
    "                    if allready_exists(new_nodes[i], qeue) == False and total_amount(new_nodes[i]) >= total_amount(end):\n",
    "                        node = copy_history(new_nodes[i], qeue[index])\n",
    "                        qeue.append(node)\n",
    "                        # checks if the end has been reached\n",
    "                        if new_nodes[i] == end:\n",
    "                            found = True\n",
    "            index += 1\n",
    "        \n",
    "        \n",
    "        # if found print the solution\n",
    "        if found:\n",
    "            answer = qeue[len(qeue)-1]\n",
    "            for i in range(len(answer)):\n",
    "                print(answer[i][0],answer[i][1],answer[i][2])\n",
    "                \n",
    "        else:\n",
    "            print(\"no solution found\")\n",
    "            \n",
    "    elif algorithm == DFS:\n",
    "        stack = []\n",
    "        visited = []\n",
    "        stack.append(start)\n",
    "        visited.append(start)\n",
    "        \n",
    "        \n",
    "        found = False\n",
    "        if start == end:\n",
    "            found = True\n",
    "            \n",
    "            \n",
    "        #this loop searhes for the desired state\n",
    "        while len(stack) > 0 and found == False:\n",
    "            added = False\n",
    "            last = stack.pop()\n",
    "            new_nodes = all_possibility(last, size)\n",
    "            stack.append(last)\n",
    "            \n",
    "            # this loop attempts to add new states to the stock\n",
    "            index = 0\n",
    "            while index < len(new_nodes) and added == False:\n",
    "                if new_nodes[index] not in visited and total_amount(new_nodes[index]) >= total_amount(end):\n",
    "                    stack.append(new_nodes[index])\n",
    "                    visited.append(new_nodes[index])\n",
    "                    added = True\n",
    "                    \n",
    "                    if new_nodes[index] == end:\n",
    "                        found = True\n",
    "        \n",
    "                index += 1\n",
    "            \n",
    "            # if no new nodes have been added to the list it removes the node from the stock \n",
    "            if added == False:\n",
    "                stack.pop()\n",
    "        \n",
    "        # if solution has been found it prints the solution\n",
    "        if len(stack) > 0:\n",
    "            for i in range(len(stack)):\n",
    "                print(stack[i][0],stack[i][1],stack[i][2])\n",
    "                \n",
    "        else:\n",
    "            print(\"no solution found\")"
   ]
  },
  {
   "cell_type": "code",
   "execution_count": 6,
   "metadata": {
    "scrolled": false
   },
   "outputs": [
    {
     "name": "stdout",
     "output_type": "stream",
     "text": [
      "BFS:\n",
      "2 2 0\n",
      "0 2 0\n",
      "0 0 0\n",
      "\n",
      "DFS:\n",
      "2 2 0\n",
      "0 2 0\n",
      "0 0 0\n"
     ]
    }
   ],
   "source": [
    "\n",
    "jugs_ = [2,2,0]\n",
    "end_state = [0,0,0]\n",
    "\n",
    "print(\"BFS:\")\n",
    "jugs(jugs_[0], jugs_[1] , jugs_[2] , end_state[0], end_state[1], end_state[2], \"bfs\")\n",
    "print()\n",
    "print(\"DFS:\")\n",
    "jugs(jugs_[0], jugs_[1] , jugs_[2] , end_state[0], end_state[1], end_state[2], \"dfs\")\n"
   ]
  },
  {
   "cell_type": "code",
   "execution_count": 7,
   "metadata": {},
   "outputs": [
    {
     "name": "stdout",
     "output_type": "stream",
     "text": [
      "BFS:\n",
      "4 4 1\n",
      "0 4 1\n",
      "0 4 0\n",
      "0 3 1\n",
      "0 3 0\n",
      "0 2 1\n",
      "1 2 0\n",
      "1 1 1\n",
      "\n",
      "DFS:\n",
      "4 4 1\n",
      "0 4 1\n",
      "0 4 0\n",
      "4 0 0\n",
      "3 0 1\n",
      "3 0 0\n",
      "0 3 0\n",
      "0 2 1\n",
      "2 0 1\n",
      "2 1 0\n",
      "1 1 1\n"
     ]
    }
   ],
   "source": [
    "jugs_ = [4,4,1]\n",
    "end_state = [1,1,1]\n",
    "\n",
    "print(\"BFS:\")\n",
    "jugs(jugs_[0], jugs_[1] , jugs_[2] , end_state[0], end_state[1], end_state[2], \"bfs\")\n",
    "print()\n",
    "print(\"DFS:\")\n",
    "jugs(jugs_[0], jugs_[1] , jugs_[2] , end_state[0], end_state[1], end_state[2], \"dfs\")\n"
   ]
  },
  {
   "cell_type": "code",
   "execution_count": 8,
   "metadata": {},
   "outputs": [
    {
     "name": "stdout",
     "output_type": "stream",
     "text": [
      "BFS:\n",
      "no solution found\n",
      "\n",
      "DFS:\n",
      "no solution found\n"
     ]
    }
   ],
   "source": [
    "jugs_ = [4,4,4]\n",
    "end_state = [1,1,1]\n",
    "\n",
    "print(\"BFS:\")\n",
    "jugs(jugs_[0], jugs_[1] , jugs_[2] , end_state[0], end_state[1], end_state[2], \"bfs\")\n",
    "print()\n",
    "print(\"DFS:\")\n",
    "jugs(jugs_[0], jugs_[1] , jugs_[2] , end_state[0], end_state[1], end_state[2], \"dfs\")"
   ]
  },
  {
   "cell_type": "code",
   "execution_count": 9,
   "metadata": {},
   "outputs": [
    {
     "name": "stdout",
     "output_type": "stream",
     "text": [
      "BFS:\n",
      "3 5 1\n",
      "0 5 1\n",
      "0 5 0\n",
      "3 2 0\n",
      "3 1 1\n",
      "\n",
      "DFS:\n",
      "3 5 1\n",
      "0 5 1\n",
      "0 5 0\n",
      "3 2 0\n",
      "2 2 1\n",
      "3 1 1\n"
     ]
    }
   ],
   "source": [
    "jugs_ = [3,5,1]\n",
    "end_state = [3,1,1]\n",
    "\n",
    "print(\"BFS:\")\n",
    "jugs(jugs_[0], jugs_[1] , jugs_[2] , end_state[0], end_state[1], end_state[2], \"bfs\")\n",
    "print()\n",
    "print(\"DFS:\")\n",
    "jugs(jugs_[0], jugs_[1] , jugs_[2] , end_state[0], end_state[1], end_state[2], \"dfs\")"
   ]
  },
  {
   "cell_type": "code",
   "execution_count": 10,
   "metadata": {},
   "outputs": [
    {
     "name": "stdout",
     "output_type": "stream",
     "text": [
      "BFS:\n",
      "7 12 1\n",
      "0 12 1\n",
      "0 12 0\n",
      "7 5 0\n",
      "6 5 1\n",
      "6 5 0\n",
      "5 5 1\n",
      "5 5 0\n",
      "4 5 1\n",
      "4 5 0\n",
      "3 5 1\n",
      "\n",
      "DFS:\n",
      "7 12 1\n",
      "0 12 1\n",
      "0 12 0\n",
      "7 5 0\n",
      "6 5 1\n",
      "6 5 0\n",
      "7 4 0\n",
      "0 11 0\n",
      "0 10 1\n",
      "0 10 0\n",
      "7 3 0\n",
      "6 3 1\n",
      "6 3 0\n",
      "7 2 0\n",
      "0 9 0\n",
      "0 8 1\n",
      "1 8 0\n",
      "1 7 1\n",
      "2 7 0\n",
      "2 6 1\n",
      "3 6 0\n",
      "3 5 1\n"
     ]
    }
   ],
   "source": [
    "jugs_ = [7,12,1]\n",
    "end_state = [3,5,1]\n",
    "\n",
    "print(\"BFS:\")\n",
    "jugs(jugs_[0], jugs_[1] , jugs_[2] , end_state[0], end_state[1], end_state[2], \"bfs\")\n",
    "print()\n",
    "print(\"DFS:\")\n",
    "jugs(jugs_[0], jugs_[1] , jugs_[2] , end_state[0], end_state[1], end_state[2], \"dfs\")"
   ]
  },
  {
   "cell_type": "code",
   "execution_count": 11,
   "metadata": {},
   "outputs": [
    {
     "name": "stdout",
     "output_type": "stream",
     "text": [
      "BFS:\n",
      "4 4 1\n",
      "0 4 1\n",
      "0 4 0\n",
      "0 3 1\n",
      "0 3 0\n",
      "0 2 1\n",
      "1 2 0\n",
      "1 1 1\n",
      "\n",
      "DFS:\n",
      "4 4 1\n",
      "0 4 1\n",
      "0 4 0\n",
      "4 0 0\n",
      "3 0 1\n",
      "3 0 0\n",
      "0 3 0\n",
      "0 2 1\n",
      "2 0 1\n",
      "2 1 0\n",
      "1 1 1\n"
     ]
    }
   ],
   "source": [
    "jugs_ = [4,4,1]\n",
    "end_state = [1,1,1]\n",
    "\n",
    "print(\"BFS:\")\n",
    "jugs(jugs_[0], jugs_[1] , jugs_[2] , end_state[0], end_state[1], end_state[2], \"bfs\")\n",
    "print()\n",
    "print(\"DFS:\")\n",
    "jugs(jugs_[0], jugs_[1] , jugs_[2] , end_state[0], end_state[1], end_state[2], \"dfs\")"
   ]
  },
  {
   "cell_type": "code",
   "execution_count": 12,
   "metadata": {},
   "outputs": [
    {
     "name": "stdout",
     "output_type": "stream",
     "text": [
      "BFS:\n",
      "4 4 1\n",
      "0 4 1\n",
      "0 4 0\n",
      "0 3 1\n",
      "0 3 0\n",
      "0 2 1\n",
      "1 2 0\n",
      "1 1 1\n",
      "\n",
      "DFS:\n",
      "4 4 1\n",
      "0 4 1\n",
      "0 4 0\n",
      "4 0 0\n",
      "3 0 1\n",
      "3 0 0\n",
      "0 3 0\n",
      "0 2 1\n",
      "2 0 1\n",
      "2 1 0\n",
      "1 1 1\n"
     ]
    }
   ],
   "source": [
    "jugs_ = [4,4,1]\n",
    "end_state = [1,1,1]\n",
    "\n",
    "print(\"BFS:\")\n",
    "jugs(jugs_[0], jugs_[1] , jugs_[2] , end_state[0], end_state[1], end_state[2], \"bfs\")\n",
    "print()\n",
    "print(\"DFS:\")\n",
    "jugs(jugs_[0], jugs_[1] , jugs_[2] , end_state[0], end_state[1], end_state[2], \"dfs\")"
   ]
  },
  {
   "cell_type": "code",
   "execution_count": 13,
   "metadata": {},
   "outputs": [
    {
     "name": "stdout",
     "output_type": "stream",
     "text": [
      "BFS:\n",
      "5 4 1\n",
      "0 4 1\n",
      "4 0 1\n",
      "4 1 0\n",
      "3 1 1\n",
      "\n",
      "DFS:\n",
      "5 4 1\n",
      "0 4 1\n",
      "4 0 1\n",
      "5 0 0\n",
      "1 4 0\n",
      "1 3 1\n",
      "2 3 0\n",
      "2 2 1\n",
      "3 2 0\n",
      "3 1 1\n"
     ]
    }
   ],
   "source": [
    "jugs_ = [5,4,1]\n",
    "end_state = [3,1,1]\n",
    "\n",
    "print(\"BFS:\")\n",
    "jugs(jugs_[0], jugs_[1] , jugs_[2] , end_state[0], end_state[1], end_state[2], \"bfs\")\n",
    "print()\n",
    "print(\"DFS:\")\n",
    "jugs(jugs_[0], jugs_[1] , jugs_[2] , end_state[0], end_state[1], end_state[2], \"dfs\")"
   ]
  },
  {
   "cell_type": "code",
   "execution_count": 14,
   "metadata": {},
   "outputs": [
    {
     "name": "stdout",
     "output_type": "stream",
     "text": [
      "BFS:\n",
      "12 4 3\n",
      "12 0 3\n",
      "12 0 0\n",
      "8 4 0\n",
      "5 4 3\n",
      "5 4 0\n",
      "5 1 3\n",
      "5 1 0\n",
      "5 0 1\n",
      "1 4 1\n",
      "\n",
      "DFS:\n",
      "12 4 3\n",
      "0 4 3\n",
      "4 0 3\n",
      "7 0 0\n",
      "3 4 0\n",
      "3 1 3\n",
      "3 0 3\n",
      "6 0 0\n",
      "2 4 0\n",
      "0 4 2\n",
      "4 0 2\n",
      "4 2 0\n",
      "1 2 3\n",
      "1 4 1\n"
     ]
    }
   ],
   "source": [
    "jugs_ = [12,4,3]\n",
    "end_state = [1,4,1]\n",
    "\n",
    "print(\"BFS:\")\n",
    "jugs(jugs_[0], jugs_[1] , jugs_[2] , end_state[0], end_state[1], end_state[2], \"bfs\")\n",
    "print()\n",
    "print(\"DFS:\")\n",
    "jugs(jugs_[0], jugs_[1] , jugs_[2] , end_state[0], end_state[1], end_state[2], \"dfs\")"
   ]
  },
  {
   "cell_type": "code",
   "execution_count": null,
   "metadata": {},
   "outputs": [],
   "source": []
  }
 ],
 "metadata": {
  "kernelspec": {
   "display_name": "Python 3",
   "language": "python",
   "name": "python3"
  },
  "language_info": {
   "codemirror_mode": {
    "name": "ipython",
    "version": 3
   },
   "file_extension": ".py",
   "mimetype": "text/x-python",
   "name": "python",
   "nbconvert_exporter": "python",
   "pygments_lexer": "ipython3",
   "version": "3.7.4"
  }
 },
 "nbformat": 4,
 "nbformat_minor": 2
}
